{
 "cells": [
  {
   "cell_type": "code",
   "execution_count": 1,
   "metadata": {},
   "outputs": [
    {
     "name": "stdout",
     "output_type": "stream",
     "text": [
      "Collecting package metadata (current_repodata.json): done\n",
      "Solving environment: done\n",
      "\n",
      "# All requested packages already installed.\n",
      "\n"
     ]
    }
   ],
   "source": [
    "#!pip3 install cufflinks\n",
    "!conda install --yes -c conda-forge cufflinks-py"
   ]
  },
  {
   "cell_type": "code",
   "execution_count": 4,
   "metadata": {},
   "outputs": [],
   "source": [
    "import os\n",
    "\n",
    "#import cupy as cp\n",
    "import pandas as pd\n",
    "#import cudf\n",
    "#import dask_cudf\n",
    "import numpy as np\n",
    "import time\n",
    "\n",
    "import cufflinks as cf\n",
    "import plotly.offline as plyo"
   ]
  },
  {
   "cell_type": "code",
   "execution_count": 5,
   "metadata": {},
   "outputs": [
    {
     "name": "stdout",
     "output_type": "stream",
     "text": [
      "Pandas Time = 3.7670135498046875e-05\n"
     ]
    }
   ],
   "source": [
    "df_BTC_USD_daily = pd.read_csv('crypto_data/Binance_BTCUSDT_d.csv', skiprows=1)\n",
    "s = time.time()\n",
    "e = time.time()    \n",
    "print(\"Pandas Time = {}\".format(e-s))"
   ]
  },
  {
   "cell_type": "code",
   "execution_count": 6,
   "metadata": {},
   "outputs": [
    {
     "data": {
      "text/html": [
       "<div>\n",
       "<style scoped>\n",
       "    .dataframe tbody tr th:only-of-type {\n",
       "        vertical-align: middle;\n",
       "    }\n",
       "\n",
       "    .dataframe tbody tr th {\n",
       "        vertical-align: top;\n",
       "    }\n",
       "\n",
       "    .dataframe thead th {\n",
       "        text-align: right;\n",
       "    }\n",
       "</style>\n",
       "<table border=\"1\" class=\"dataframe\">\n",
       "  <thead>\n",
       "    <tr style=\"text-align: right;\">\n",
       "      <th></th>\n",
       "      <th>unix</th>\n",
       "      <th>date</th>\n",
       "      <th>symbol</th>\n",
       "      <th>open</th>\n",
       "      <th>high</th>\n",
       "      <th>low</th>\n",
       "      <th>close</th>\n",
       "      <th>Volume BTC</th>\n",
       "      <th>Volume USDT</th>\n",
       "      <th>tradecount</th>\n",
       "    </tr>\n",
       "  </thead>\n",
       "  <tbody>\n",
       "    <tr>\n",
       "      <th>0</th>\n",
       "      <td>1.611187e+12</td>\n",
       "      <td>2021-01-21 00:00:00</td>\n",
       "      <td>BTC/USDT</td>\n",
       "      <td>35468.23</td>\n",
       "      <td>35600.00</td>\n",
       "      <td>35304.63</td>\n",
       "      <td>35319.06</td>\n",
       "      <td>307.752511</td>\n",
       "      <td>1.091121e+07</td>\n",
       "      <td>10161.0</td>\n",
       "    </tr>\n",
       "    <tr>\n",
       "      <th>1</th>\n",
       "      <td>1.611101e+12</td>\n",
       "      <td>2021-01-20 00:00:00</td>\n",
       "      <td>BTC/USDT</td>\n",
       "      <td>35901.94</td>\n",
       "      <td>36415.31</td>\n",
       "      <td>33400.00</td>\n",
       "      <td>35468.23</td>\n",
       "      <td>89368.422918</td>\n",
       "      <td>3.126721e+09</td>\n",
       "      <td>2234539.0</td>\n",
       "    </tr>\n",
       "    <tr>\n",
       "      <th>2</th>\n",
       "      <td>1.611014e+12</td>\n",
       "      <td>2021-01-19 00:00:00</td>\n",
       "      <td>BTC/USDT</td>\n",
       "      <td>36622.46</td>\n",
       "      <td>37850.00</td>\n",
       "      <td>35844.06</td>\n",
       "      <td>35891.49</td>\n",
       "      <td>79611.307769</td>\n",
       "      <td>2.935348e+09</td>\n",
       "      <td>1939371.0</td>\n",
       "    </tr>\n",
       "    <tr>\n",
       "      <th>3</th>\n",
       "      <td>1.610928e+12</td>\n",
       "      <td>2021-01-18 00:00:00</td>\n",
       "      <td>BTC/USDT</td>\n",
       "      <td>35824.99</td>\n",
       "      <td>37469.83</td>\n",
       "      <td>34800.00</td>\n",
       "      <td>36631.27</td>\n",
       "      <td>70698.118750</td>\n",
       "      <td>2.554843e+09</td>\n",
       "      <td>1707766.0</td>\n",
       "    </tr>\n",
       "    <tr>\n",
       "      <th>4</th>\n",
       "      <td>1.610842e+12</td>\n",
       "      <td>2021-01-17 00:00:00</td>\n",
       "      <td>BTC/USDT</td>\n",
       "      <td>35994.98</td>\n",
       "      <td>36852.50</td>\n",
       "      <td>33850.00</td>\n",
       "      <td>35828.61</td>\n",
       "      <td>80157.727384</td>\n",
       "      <td>2.843103e+09</td>\n",
       "      <td>1860642.0</td>\n",
       "    </tr>\n",
       "  </tbody>\n",
       "</table>\n",
       "</div>"
      ],
      "text/plain": [
       "           unix                 date    symbol      open      high       low  \\\n",
       "0  1.611187e+12  2021-01-21 00:00:00  BTC/USDT  35468.23  35600.00  35304.63   \n",
       "1  1.611101e+12  2021-01-20 00:00:00  BTC/USDT  35901.94  36415.31  33400.00   \n",
       "2  1.611014e+12  2021-01-19 00:00:00  BTC/USDT  36622.46  37850.00  35844.06   \n",
       "3  1.610928e+12  2021-01-18 00:00:00  BTC/USDT  35824.99  37469.83  34800.00   \n",
       "4  1.610842e+12  2021-01-17 00:00:00  BTC/USDT  35994.98  36852.50  33850.00   \n",
       "\n",
       "      close    Volume BTC   Volume USDT  tradecount  \n",
       "0  35319.06    307.752511  1.091121e+07     10161.0  \n",
       "1  35468.23  89368.422918  3.126721e+09   2234539.0  \n",
       "2  35891.49  79611.307769  2.935348e+09   1939371.0  \n",
       "3  36631.27  70698.118750  2.554843e+09   1707766.0  \n",
       "4  35828.61  80157.727384  2.843103e+09   1860642.0  "
      ]
     },
     "execution_count": 6,
     "metadata": {},
     "output_type": "execute_result"
    }
   ],
   "source": [
    "df_BTC_USD_daily.head()"
   ]
  },
  {
   "cell_type": "code",
   "execution_count": 7,
   "metadata": {},
   "outputs": [
    {
     "data": {
      "text/html": [
       "<div>\n",
       "<style scoped>\n",
       "    .dataframe tbody tr th:only-of-type {\n",
       "        vertical-align: middle;\n",
       "    }\n",
       "\n",
       "    .dataframe tbody tr th {\n",
       "        vertical-align: top;\n",
       "    }\n",
       "\n",
       "    .dataframe thead th {\n",
       "        text-align: right;\n",
       "    }\n",
       "</style>\n",
       "<table border=\"1\" class=\"dataframe\">\n",
       "  <thead>\n",
       "    <tr style=\"text-align: right;\">\n",
       "      <th></th>\n",
       "      <th>unix</th>\n",
       "      <th>open</th>\n",
       "      <th>high</th>\n",
       "      <th>low</th>\n",
       "      <th>close</th>\n",
       "      <th>Volume BTC</th>\n",
       "      <th>Volume USDT</th>\n",
       "      <th>tradecount</th>\n",
       "    </tr>\n",
       "  </thead>\n",
       "  <tbody>\n",
       "    <tr>\n",
       "      <th>count</th>\n",
       "      <td>1.255000e+03</td>\n",
       "      <td>1255.000000</td>\n",
       "      <td>1255.000000</td>\n",
       "      <td>1255.000000</td>\n",
       "      <td>1255.000000</td>\n",
       "      <td>1255.000000</td>\n",
       "      <td>1.255000e+03</td>\n",
       "      <td>1.131000e+03</td>\n",
       "    </tr>\n",
       "    <tr>\n",
       "      <th>mean</th>\n",
       "      <td>1.408150e+12</td>\n",
       "      <td>8997.216932</td>\n",
       "      <td>9271.379044</td>\n",
       "      <td>8686.398733</td>\n",
       "      <td>9021.788510</td>\n",
       "      <td>45626.800031</td>\n",
       "      <td>4.717578e+08</td>\n",
       "      <td>5.154053e+05</td>\n",
       "    </tr>\n",
       "    <tr>\n",
       "      <th>std</th>\n",
       "      <td>4.667163e+11</td>\n",
       "      <td>5081.027649</td>\n",
       "      <td>5312.224687</td>\n",
       "      <td>4807.335260</td>\n",
       "      <td>5133.340739</td>\n",
       "      <td>34889.453619</td>\n",
       "      <td>6.460202e+08</td>\n",
       "      <td>4.662954e+05</td>\n",
       "    </tr>\n",
       "    <tr>\n",
       "      <th>min</th>\n",
       "      <td>1.502928e+09</td>\n",
       "      <td>3189.020000</td>\n",
       "      <td>3276.500000</td>\n",
       "      <td>2817.000000</td>\n",
       "      <td>3189.020000</td>\n",
       "      <td>225.760000</td>\n",
       "      <td>9.677533e+05</td>\n",
       "      <td>1.016100e+04</td>\n",
       "    </tr>\n",
       "    <tr>\n",
       "      <th>25%</th>\n",
       "      <td>1.529928e+12</td>\n",
       "      <td>6391.540000</td>\n",
       "      <td>6537.500000</td>\n",
       "      <td>6260.500000</td>\n",
       "      <td>6393.135000</td>\n",
       "      <td>25434.349423</td>\n",
       "      <td>1.708942e+08</td>\n",
       "      <td>2.159290e+05</td>\n",
       "    </tr>\n",
       "    <tr>\n",
       "      <th>50%</th>\n",
       "      <td>1.557014e+12</td>\n",
       "      <td>8184.970000</td>\n",
       "      <td>8382.800000</td>\n",
       "      <td>7954.000000</td>\n",
       "      <td>8187.170000</td>\n",
       "      <td>38896.639746</td>\n",
       "      <td>3.073169e+08</td>\n",
       "      <td>3.573820e+05</td>\n",
       "    </tr>\n",
       "    <tr>\n",
       "      <th>75%</th>\n",
       "      <td>1.584101e+12</td>\n",
       "      <td>10235.730000</td>\n",
       "      <td>10455.000000</td>\n",
       "      <td>9900.000000</td>\n",
       "      <td>10242.875000</td>\n",
       "      <td>59211.513017</td>\n",
       "      <td>5.189953e+08</td>\n",
       "      <td>6.468370e+05</td>\n",
       "    </tr>\n",
       "    <tr>\n",
       "      <th>max</th>\n",
       "      <td>1.611187e+12</td>\n",
       "      <td>40586.960000</td>\n",
       "      <td>41950.000000</td>\n",
       "      <td>38720.000000</td>\n",
       "      <td>40582.810000</td>\n",
       "      <td>402201.673764</td>\n",
       "      <td>8.426880e+09</td>\n",
       "      <td>4.431451e+06</td>\n",
       "    </tr>\n",
       "  </tbody>\n",
       "</table>\n",
       "</div>"
      ],
      "text/plain": [
       "               unix          open          high           low         close  \\\n",
       "count  1.255000e+03   1255.000000   1255.000000   1255.000000   1255.000000   \n",
       "mean   1.408150e+12   8997.216932   9271.379044   8686.398733   9021.788510   \n",
       "std    4.667163e+11   5081.027649   5312.224687   4807.335260   5133.340739   \n",
       "min    1.502928e+09   3189.020000   3276.500000   2817.000000   3189.020000   \n",
       "25%    1.529928e+12   6391.540000   6537.500000   6260.500000   6393.135000   \n",
       "50%    1.557014e+12   8184.970000   8382.800000   7954.000000   8187.170000   \n",
       "75%    1.584101e+12  10235.730000  10455.000000   9900.000000  10242.875000   \n",
       "max    1.611187e+12  40586.960000  41950.000000  38720.000000  40582.810000   \n",
       "\n",
       "          Volume BTC   Volume USDT    tradecount  \n",
       "count    1255.000000  1.255000e+03  1.131000e+03  \n",
       "mean    45626.800031  4.717578e+08  5.154053e+05  \n",
       "std     34889.453619  6.460202e+08  4.662954e+05  \n",
       "min       225.760000  9.677533e+05  1.016100e+04  \n",
       "25%     25434.349423  1.708942e+08  2.159290e+05  \n",
       "50%     38896.639746  3.073169e+08  3.573820e+05  \n",
       "75%     59211.513017  5.189953e+08  6.468370e+05  \n",
       "max    402201.673764  8.426880e+09  4.431451e+06  "
      ]
     },
     "execution_count": 7,
     "metadata": {},
     "output_type": "execute_result"
    }
   ],
   "source": [
    "df_BTC_USD_daily.describe()"
   ]
  },
  {
   "cell_type": "code",
   "execution_count": 8,
   "metadata": {},
   "outputs": [
    {
     "name": "stdout",
     "output_type": "stream",
     "text": [
      "<class 'pandas.core.frame.DataFrame'>\n",
      "RangeIndex: 1255 entries, 0 to 1254\n",
      "Data columns (total 10 columns):\n",
      " #   Column       Non-Null Count  Dtype  \n",
      "---  ------       --------------  -----  \n",
      " 0   unix         1255 non-null   float64\n",
      " 1   date         1255 non-null   object \n",
      " 2   symbol       1255 non-null   object \n",
      " 3   open         1255 non-null   float64\n",
      " 4   high         1255 non-null   float64\n",
      " 5   low          1255 non-null   float64\n",
      " 6   close        1255 non-null   float64\n",
      " 7   Volume BTC   1255 non-null   float64\n",
      " 8   Volume USDT  1255 non-null   float64\n",
      " 9   tradecount   1131 non-null   float64\n",
      "dtypes: float64(8), object(2)\n",
      "memory usage: 98.2+ KB\n"
     ]
    }
   ],
   "source": [
    "df_BTC_USD_daily.info()"
   ]
  },
  {
   "cell_type": "markdown",
   "metadata": {},
   "source": [
    "It appears that there are some missing trade count values though other values seem ok"
   ]
  },
  {
   "cell_type": "code",
   "execution_count": 9,
   "metadata": {},
   "outputs": [
    {
     "data": {
      "text/plain": [
       "unix             0\n",
       "date             0\n",
       "symbol           0\n",
       "open             0\n",
       "high             0\n",
       "low              0\n",
       "close            0\n",
       "Volume BTC       0\n",
       "Volume USDT      0\n",
       "tradecount     124\n",
       "dtype: int64"
      ]
     },
     "execution_count": 9,
     "metadata": {},
     "output_type": "execute_result"
    }
   ],
   "source": [
    "df_BTC_USD_daily.isna().sum()"
   ]
  },
  {
   "cell_type": "code",
   "execution_count": 10,
   "metadata": {},
   "outputs": [
    {
     "data": {
      "text/html": [
       "<div>\n",
       "<style scoped>\n",
       "    .dataframe tbody tr th:only-of-type {\n",
       "        vertical-align: middle;\n",
       "    }\n",
       "\n",
       "    .dataframe tbody tr th {\n",
       "        vertical-align: top;\n",
       "    }\n",
       "\n",
       "    .dataframe thead th {\n",
       "        text-align: right;\n",
       "    }\n",
       "</style>\n",
       "<table border=\"1\" class=\"dataframe\">\n",
       "  <thead>\n",
       "    <tr style=\"text-align: right;\">\n",
       "      <th></th>\n",
       "      <th>unix</th>\n",
       "      <th>date</th>\n",
       "      <th>symbol</th>\n",
       "      <th>open</th>\n",
       "      <th>high</th>\n",
       "      <th>low</th>\n",
       "      <th>close</th>\n",
       "      <th>Volume BTC</th>\n",
       "      <th>Volume USDT</th>\n",
       "      <th>tradecount</th>\n",
       "    </tr>\n",
       "  </thead>\n",
       "  <tbody>\n",
       "    <tr>\n",
       "      <th>1131</th>\n",
       "      <td>1.513555e+09</td>\n",
       "      <td>2017-12-18</td>\n",
       "      <td>BTC/USDT</td>\n",
       "      <td>18860.02</td>\n",
       "      <td>19300.00</td>\n",
       "      <td>17029.98</td>\n",
       "      <td>18856.25</td>\n",
       "      <td>10280.98</td>\n",
       "      <td>1.900573e+08</td>\n",
       "      <td>NaN</td>\n",
       "    </tr>\n",
       "    <tr>\n",
       "      <th>1132</th>\n",
       "      <td>1.513469e+09</td>\n",
       "      <td>2017-12-17</td>\n",
       "      <td>BTC/USDT</td>\n",
       "      <td>19102.66</td>\n",
       "      <td>19798.68</td>\n",
       "      <td>18510.00</td>\n",
       "      <td>18860.02</td>\n",
       "      <td>8980.73</td>\n",
       "      <td>1.721134e+08</td>\n",
       "      <td>NaN</td>\n",
       "    </tr>\n",
       "    <tr>\n",
       "      <th>1133</th>\n",
       "      <td>1.513382e+09</td>\n",
       "      <td>2017-12-16</td>\n",
       "      <td>BTC/USDT</td>\n",
       "      <td>17539.83</td>\n",
       "      <td>19539.00</td>\n",
       "      <td>17190.01</td>\n",
       "      <td>19102.66</td>\n",
       "      <td>4118.28</td>\n",
       "      <td>7.473658e+07</td>\n",
       "      <td>NaN</td>\n",
       "    </tr>\n",
       "    <tr>\n",
       "      <th>1134</th>\n",
       "      <td>1.513296e+09</td>\n",
       "      <td>2017-12-15</td>\n",
       "      <td>BTC/USDT</td>\n",
       "      <td>16334.98</td>\n",
       "      <td>17991.00</td>\n",
       "      <td>16298.45</td>\n",
       "      <td>17539.83</td>\n",
       "      <td>8999.13</td>\n",
       "      <td>1.566451e+08</td>\n",
       "      <td>NaN</td>\n",
       "    </tr>\n",
       "    <tr>\n",
       "      <th>1135</th>\n",
       "      <td>1.513210e+09</td>\n",
       "      <td>2017-12-14</td>\n",
       "      <td>BTC/USDT</td>\n",
       "      <td>16033.29</td>\n",
       "      <td>16445.00</td>\n",
       "      <td>15450.00</td>\n",
       "      <td>16334.98</td>\n",
       "      <td>11220.26</td>\n",
       "      <td>1.797144e+08</td>\n",
       "      <td>NaN</td>\n",
       "    </tr>\n",
       "    <tr>\n",
       "      <th>...</th>\n",
       "      <td>...</td>\n",
       "      <td>...</td>\n",
       "      <td>...</td>\n",
       "      <td>...</td>\n",
       "      <td>...</td>\n",
       "      <td>...</td>\n",
       "      <td>...</td>\n",
       "      <td>...</td>\n",
       "      <td>...</td>\n",
       "      <td>...</td>\n",
       "    </tr>\n",
       "    <tr>\n",
       "      <th>1250</th>\n",
       "      <td>1.503274e+09</td>\n",
       "      <td>2017-08-21</td>\n",
       "      <td>BTC/USDT</td>\n",
       "      <td>4086.29</td>\n",
       "      <td>4119.62</td>\n",
       "      <td>3911.79</td>\n",
       "      <td>4016.00</td>\n",
       "      <td>685.12</td>\n",
       "      <td>2.770592e+06</td>\n",
       "      <td>NaN</td>\n",
       "    </tr>\n",
       "    <tr>\n",
       "      <th>1251</th>\n",
       "      <td>1.503187e+09</td>\n",
       "      <td>2017-08-20</td>\n",
       "      <td>BTC/USDT</td>\n",
       "      <td>4139.98</td>\n",
       "      <td>4211.08</td>\n",
       "      <td>4032.62</td>\n",
       "      <td>4086.29</td>\n",
       "      <td>463.54</td>\n",
       "      <td>1.915636e+06</td>\n",
       "      <td>NaN</td>\n",
       "    </tr>\n",
       "    <tr>\n",
       "      <th>1252</th>\n",
       "      <td>1.503101e+09</td>\n",
       "      <td>2017-08-19</td>\n",
       "      <td>BTC/USDT</td>\n",
       "      <td>4108.37</td>\n",
       "      <td>4184.69</td>\n",
       "      <td>3850.00</td>\n",
       "      <td>4139.98</td>\n",
       "      <td>371.15</td>\n",
       "      <td>1.508239e+06</td>\n",
       "      <td>NaN</td>\n",
       "    </tr>\n",
       "    <tr>\n",
       "      <th>1253</th>\n",
       "      <td>1.503014e+09</td>\n",
       "      <td>2017-08-18</td>\n",
       "      <td>BTC/USDT</td>\n",
       "      <td>4285.08</td>\n",
       "      <td>4371.52</td>\n",
       "      <td>3938.77</td>\n",
       "      <td>4108.37</td>\n",
       "      <td>1178.07</td>\n",
       "      <td>4.994494e+06</td>\n",
       "      <td>NaN</td>\n",
       "    </tr>\n",
       "    <tr>\n",
       "      <th>1254</th>\n",
       "      <td>1.502928e+09</td>\n",
       "      <td>2017-08-17</td>\n",
       "      <td>BTC/USDT</td>\n",
       "      <td>4469.93</td>\n",
       "      <td>4485.39</td>\n",
       "      <td>4200.74</td>\n",
       "      <td>4285.08</td>\n",
       "      <td>647.86</td>\n",
       "      <td>2.812379e+06</td>\n",
       "      <td>NaN</td>\n",
       "    </tr>\n",
       "  </tbody>\n",
       "</table>\n",
       "<p>124 rows × 10 columns</p>\n",
       "</div>"
      ],
      "text/plain": [
       "              unix        date    symbol      open      high       low  \\\n",
       "1131  1.513555e+09  2017-12-18  BTC/USDT  18860.02  19300.00  17029.98   \n",
       "1132  1.513469e+09  2017-12-17  BTC/USDT  19102.66  19798.68  18510.00   \n",
       "1133  1.513382e+09  2017-12-16  BTC/USDT  17539.83  19539.00  17190.01   \n",
       "1134  1.513296e+09  2017-12-15  BTC/USDT  16334.98  17991.00  16298.45   \n",
       "1135  1.513210e+09  2017-12-14  BTC/USDT  16033.29  16445.00  15450.00   \n",
       "...            ...         ...       ...       ...       ...       ...   \n",
       "1250  1.503274e+09  2017-08-21  BTC/USDT   4086.29   4119.62   3911.79   \n",
       "1251  1.503187e+09  2017-08-20  BTC/USDT   4139.98   4211.08   4032.62   \n",
       "1252  1.503101e+09  2017-08-19  BTC/USDT   4108.37   4184.69   3850.00   \n",
       "1253  1.503014e+09  2017-08-18  BTC/USDT   4285.08   4371.52   3938.77   \n",
       "1254  1.502928e+09  2017-08-17  BTC/USDT   4469.93   4485.39   4200.74   \n",
       "\n",
       "         close  Volume BTC   Volume USDT  tradecount  \n",
       "1131  18856.25    10280.98  1.900573e+08         NaN  \n",
       "1132  18860.02     8980.73  1.721134e+08         NaN  \n",
       "1133  19102.66     4118.28  7.473658e+07         NaN  \n",
       "1134  17539.83     8999.13  1.566451e+08         NaN  \n",
       "1135  16334.98    11220.26  1.797144e+08         NaN  \n",
       "...        ...         ...           ...         ...  \n",
       "1250   4016.00      685.12  2.770592e+06         NaN  \n",
       "1251   4086.29      463.54  1.915636e+06         NaN  \n",
       "1252   4139.98      371.15  1.508239e+06         NaN  \n",
       "1253   4108.37     1178.07  4.994494e+06         NaN  \n",
       "1254   4285.08      647.86  2.812379e+06         NaN  \n",
       "\n",
       "[124 rows x 10 columns]"
      ]
     },
     "execution_count": 10,
     "metadata": {},
     "output_type": "execute_result"
    }
   ],
   "source": [
    "# it appears that there are null values for trade count. Lets see where they are.\n",
    "# TODO: ensure that the tradecounts are only for early data\n",
    "# TODO: can fill with the average?\n",
    "df_BTC_USD_daily[df_BTC_USD_daily['tradecount'].isna()]"
   ]
  },
  {
   "cell_type": "code",
   "execution_count": 11,
   "metadata": {},
   "outputs": [],
   "source": [
    "# new we know the data positions for timeseries lets re ingest it\n",
    "df_BTC_USD_daily = pd.read_csv('crypto_data/Binance_BTCUSDT_d.csv', skiprows=1, index_col=1, parse_dates=True)"
   ]
  },
  {
   "cell_type": "code",
   "execution_count": 12,
   "metadata": {},
   "outputs": [
    {
     "data": {
      "text/html": [
       "<div>\n",
       "<style scoped>\n",
       "    .dataframe tbody tr th:only-of-type {\n",
       "        vertical-align: middle;\n",
       "    }\n",
       "\n",
       "    .dataframe tbody tr th {\n",
       "        vertical-align: top;\n",
       "    }\n",
       "\n",
       "    .dataframe thead th {\n",
       "        text-align: right;\n",
       "    }\n",
       "</style>\n",
       "<table border=\"1\" class=\"dataframe\">\n",
       "  <thead>\n",
       "    <tr style=\"text-align: right;\">\n",
       "      <th></th>\n",
       "      <th>unix</th>\n",
       "      <th>symbol</th>\n",
       "      <th>open</th>\n",
       "      <th>high</th>\n",
       "      <th>low</th>\n",
       "      <th>close</th>\n",
       "      <th>Volume BTC</th>\n",
       "      <th>Volume USDT</th>\n",
       "      <th>tradecount</th>\n",
       "    </tr>\n",
       "    <tr>\n",
       "      <th>date</th>\n",
       "      <th></th>\n",
       "      <th></th>\n",
       "      <th></th>\n",
       "      <th></th>\n",
       "      <th></th>\n",
       "      <th></th>\n",
       "      <th></th>\n",
       "      <th></th>\n",
       "      <th></th>\n",
       "    </tr>\n",
       "  </thead>\n",
       "  <tbody>\n",
       "    <tr>\n",
       "      <th>2021-01-21</th>\n",
       "      <td>1.611187e+12</td>\n",
       "      <td>BTC/USDT</td>\n",
       "      <td>35468.23</td>\n",
       "      <td>35600.00</td>\n",
       "      <td>35304.63</td>\n",
       "      <td>35319.06</td>\n",
       "      <td>307.752511</td>\n",
       "      <td>1.091121e+07</td>\n",
       "      <td>10161.0</td>\n",
       "    </tr>\n",
       "    <tr>\n",
       "      <th>2021-01-20</th>\n",
       "      <td>1.611101e+12</td>\n",
       "      <td>BTC/USDT</td>\n",
       "      <td>35901.94</td>\n",
       "      <td>36415.31</td>\n",
       "      <td>33400.00</td>\n",
       "      <td>35468.23</td>\n",
       "      <td>89368.422918</td>\n",
       "      <td>3.126721e+09</td>\n",
       "      <td>2234539.0</td>\n",
       "    </tr>\n",
       "    <tr>\n",
       "      <th>2021-01-19</th>\n",
       "      <td>1.611014e+12</td>\n",
       "      <td>BTC/USDT</td>\n",
       "      <td>36622.46</td>\n",
       "      <td>37850.00</td>\n",
       "      <td>35844.06</td>\n",
       "      <td>35891.49</td>\n",
       "      <td>79611.307769</td>\n",
       "      <td>2.935348e+09</td>\n",
       "      <td>1939371.0</td>\n",
       "    </tr>\n",
       "    <tr>\n",
       "      <th>2021-01-18</th>\n",
       "      <td>1.610928e+12</td>\n",
       "      <td>BTC/USDT</td>\n",
       "      <td>35824.99</td>\n",
       "      <td>37469.83</td>\n",
       "      <td>34800.00</td>\n",
       "      <td>36631.27</td>\n",
       "      <td>70698.118750</td>\n",
       "      <td>2.554843e+09</td>\n",
       "      <td>1707766.0</td>\n",
       "    </tr>\n",
       "    <tr>\n",
       "      <th>2021-01-17</th>\n",
       "      <td>1.610842e+12</td>\n",
       "      <td>BTC/USDT</td>\n",
       "      <td>35994.98</td>\n",
       "      <td>36852.50</td>\n",
       "      <td>33850.00</td>\n",
       "      <td>35828.61</td>\n",
       "      <td>80157.727384</td>\n",
       "      <td>2.843103e+09</td>\n",
       "      <td>1860642.0</td>\n",
       "    </tr>\n",
       "    <tr>\n",
       "      <th>...</th>\n",
       "      <td>...</td>\n",
       "      <td>...</td>\n",
       "      <td>...</td>\n",
       "      <td>...</td>\n",
       "      <td>...</td>\n",
       "      <td>...</td>\n",
       "      <td>...</td>\n",
       "      <td>...</td>\n",
       "      <td>...</td>\n",
       "    </tr>\n",
       "    <tr>\n",
       "      <th>2017-08-21</th>\n",
       "      <td>1.503274e+09</td>\n",
       "      <td>BTC/USDT</td>\n",
       "      <td>4086.29</td>\n",
       "      <td>4119.62</td>\n",
       "      <td>3911.79</td>\n",
       "      <td>4016.00</td>\n",
       "      <td>685.120000</td>\n",
       "      <td>2.770592e+06</td>\n",
       "      <td>NaN</td>\n",
       "    </tr>\n",
       "    <tr>\n",
       "      <th>2017-08-20</th>\n",
       "      <td>1.503187e+09</td>\n",
       "      <td>BTC/USDT</td>\n",
       "      <td>4139.98</td>\n",
       "      <td>4211.08</td>\n",
       "      <td>4032.62</td>\n",
       "      <td>4086.29</td>\n",
       "      <td>463.540000</td>\n",
       "      <td>1.915636e+06</td>\n",
       "      <td>NaN</td>\n",
       "    </tr>\n",
       "    <tr>\n",
       "      <th>2017-08-19</th>\n",
       "      <td>1.503101e+09</td>\n",
       "      <td>BTC/USDT</td>\n",
       "      <td>4108.37</td>\n",
       "      <td>4184.69</td>\n",
       "      <td>3850.00</td>\n",
       "      <td>4139.98</td>\n",
       "      <td>371.150000</td>\n",
       "      <td>1.508239e+06</td>\n",
       "      <td>NaN</td>\n",
       "    </tr>\n",
       "    <tr>\n",
       "      <th>2017-08-18</th>\n",
       "      <td>1.503014e+09</td>\n",
       "      <td>BTC/USDT</td>\n",
       "      <td>4285.08</td>\n",
       "      <td>4371.52</td>\n",
       "      <td>3938.77</td>\n",
       "      <td>4108.37</td>\n",
       "      <td>1178.070000</td>\n",
       "      <td>4.994494e+06</td>\n",
       "      <td>NaN</td>\n",
       "    </tr>\n",
       "    <tr>\n",
       "      <th>2017-08-17</th>\n",
       "      <td>1.502928e+09</td>\n",
       "      <td>BTC/USDT</td>\n",
       "      <td>4469.93</td>\n",
       "      <td>4485.39</td>\n",
       "      <td>4200.74</td>\n",
       "      <td>4285.08</td>\n",
       "      <td>647.860000</td>\n",
       "      <td>2.812379e+06</td>\n",
       "      <td>NaN</td>\n",
       "    </tr>\n",
       "  </tbody>\n",
       "</table>\n",
       "<p>1255 rows × 9 columns</p>\n",
       "</div>"
      ],
      "text/plain": [
       "                    unix    symbol      open      high       low     close  \\\n",
       "date                                                                         \n",
       "2021-01-21  1.611187e+12  BTC/USDT  35468.23  35600.00  35304.63  35319.06   \n",
       "2021-01-20  1.611101e+12  BTC/USDT  35901.94  36415.31  33400.00  35468.23   \n",
       "2021-01-19  1.611014e+12  BTC/USDT  36622.46  37850.00  35844.06  35891.49   \n",
       "2021-01-18  1.610928e+12  BTC/USDT  35824.99  37469.83  34800.00  36631.27   \n",
       "2021-01-17  1.610842e+12  BTC/USDT  35994.98  36852.50  33850.00  35828.61   \n",
       "...                  ...       ...       ...       ...       ...       ...   \n",
       "2017-08-21  1.503274e+09  BTC/USDT   4086.29   4119.62   3911.79   4016.00   \n",
       "2017-08-20  1.503187e+09  BTC/USDT   4139.98   4211.08   4032.62   4086.29   \n",
       "2017-08-19  1.503101e+09  BTC/USDT   4108.37   4184.69   3850.00   4139.98   \n",
       "2017-08-18  1.503014e+09  BTC/USDT   4285.08   4371.52   3938.77   4108.37   \n",
       "2017-08-17  1.502928e+09  BTC/USDT   4469.93   4485.39   4200.74   4285.08   \n",
       "\n",
       "              Volume BTC   Volume USDT  tradecount  \n",
       "date                                                \n",
       "2021-01-21    307.752511  1.091121e+07     10161.0  \n",
       "2021-01-20  89368.422918  3.126721e+09   2234539.0  \n",
       "2021-01-19  79611.307769  2.935348e+09   1939371.0  \n",
       "2021-01-18  70698.118750  2.554843e+09   1707766.0  \n",
       "2021-01-17  80157.727384  2.843103e+09   1860642.0  \n",
       "...                  ...           ...         ...  \n",
       "2017-08-21    685.120000  2.770592e+06         NaN  \n",
       "2017-08-20    463.540000  1.915636e+06         NaN  \n",
       "2017-08-19    371.150000  1.508239e+06         NaN  \n",
       "2017-08-18   1178.070000  4.994494e+06         NaN  \n",
       "2017-08-17    647.860000  2.812379e+06         NaN  \n",
       "\n",
       "[1255 rows x 9 columns]"
      ]
     },
     "execution_count": 12,
     "metadata": {},
     "output_type": "execute_result"
    }
   ],
   "source": [
    "df_BTC_USD_daily"
   ]
  },
  {
   "cell_type": "code",
   "execution_count": 13,
   "metadata": {},
   "outputs": [],
   "source": [
    "df_olhc = df_BTC_USD_daily[['open','high','low','close']]"
   ]
  },
  {
   "cell_type": "code",
   "execution_count": 14,
   "metadata": {},
   "outputs": [
    {
     "data": {
      "text/html": [
       "<div>\n",
       "<style scoped>\n",
       "    .dataframe tbody tr th:only-of-type {\n",
       "        vertical-align: middle;\n",
       "    }\n",
       "\n",
       "    .dataframe tbody tr th {\n",
       "        vertical-align: top;\n",
       "    }\n",
       "\n",
       "    .dataframe thead th {\n",
       "        text-align: right;\n",
       "    }\n",
       "</style>\n",
       "<table border=\"1\" class=\"dataframe\">\n",
       "  <thead>\n",
       "    <tr style=\"text-align: right;\">\n",
       "      <th></th>\n",
       "      <th>open</th>\n",
       "      <th>high</th>\n",
       "      <th>low</th>\n",
       "      <th>close</th>\n",
       "    </tr>\n",
       "    <tr>\n",
       "      <th>date</th>\n",
       "      <th></th>\n",
       "      <th></th>\n",
       "      <th></th>\n",
       "      <th></th>\n",
       "    </tr>\n",
       "  </thead>\n",
       "  <tbody>\n",
       "    <tr>\n",
       "      <th>2021-01-21</th>\n",
       "      <td>35468.23</td>\n",
       "      <td>35600.00</td>\n",
       "      <td>35304.63</td>\n",
       "      <td>35319.06</td>\n",
       "    </tr>\n",
       "    <tr>\n",
       "      <th>2021-01-20</th>\n",
       "      <td>35901.94</td>\n",
       "      <td>36415.31</td>\n",
       "      <td>33400.00</td>\n",
       "      <td>35468.23</td>\n",
       "    </tr>\n",
       "    <tr>\n",
       "      <th>2021-01-19</th>\n",
       "      <td>36622.46</td>\n",
       "      <td>37850.00</td>\n",
       "      <td>35844.06</td>\n",
       "      <td>35891.49</td>\n",
       "    </tr>\n",
       "    <tr>\n",
       "      <th>2021-01-18</th>\n",
       "      <td>35824.99</td>\n",
       "      <td>37469.83</td>\n",
       "      <td>34800.00</td>\n",
       "      <td>36631.27</td>\n",
       "    </tr>\n",
       "    <tr>\n",
       "      <th>2021-01-17</th>\n",
       "      <td>35994.98</td>\n",
       "      <td>36852.50</td>\n",
       "      <td>33850.00</td>\n",
       "      <td>35828.61</td>\n",
       "    </tr>\n",
       "  </tbody>\n",
       "</table>\n",
       "</div>"
      ],
      "text/plain": [
       "                open      high       low     close\n",
       "date                                              \n",
       "2021-01-21  35468.23  35600.00  35304.63  35319.06\n",
       "2021-01-20  35901.94  36415.31  33400.00  35468.23\n",
       "2021-01-19  36622.46  37850.00  35844.06  35891.49\n",
       "2021-01-18  35824.99  37469.83  34800.00  36631.27\n",
       "2021-01-17  35994.98  36852.50  33850.00  35828.61"
      ]
     },
     "execution_count": 14,
     "metadata": {},
     "output_type": "execute_result"
    }
   ],
   "source": [
    "df_olhc.head()"
   ]
  },
  {
   "cell_type": "code",
   "execution_count": 15,
   "metadata": {},
   "outputs": [
    {
     "data": {
      "text/html": [
       "<div>\n",
       "<style scoped>\n",
       "    .dataframe tbody tr th:only-of-type {\n",
       "        vertical-align: middle;\n",
       "    }\n",
       "\n",
       "    .dataframe tbody tr th {\n",
       "        vertical-align: top;\n",
       "    }\n",
       "\n",
       "    .dataframe thead th {\n",
       "        text-align: right;\n",
       "    }\n",
       "</style>\n",
       "<table border=\"1\" class=\"dataframe\">\n",
       "  <thead>\n",
       "    <tr style=\"text-align: right;\">\n",
       "      <th></th>\n",
       "      <th>open</th>\n",
       "      <th>high</th>\n",
       "      <th>low</th>\n",
       "      <th>close</th>\n",
       "    </tr>\n",
       "    <tr>\n",
       "      <th>date</th>\n",
       "      <th></th>\n",
       "      <th></th>\n",
       "      <th></th>\n",
       "      <th></th>\n",
       "    </tr>\n",
       "  </thead>\n",
       "  <tbody>\n",
       "    <tr>\n",
       "      <th>2017-08-21</th>\n",
       "      <td>4086.29</td>\n",
       "      <td>4119.62</td>\n",
       "      <td>3911.79</td>\n",
       "      <td>4016.00</td>\n",
       "    </tr>\n",
       "    <tr>\n",
       "      <th>2017-08-20</th>\n",
       "      <td>4139.98</td>\n",
       "      <td>4211.08</td>\n",
       "      <td>4032.62</td>\n",
       "      <td>4086.29</td>\n",
       "    </tr>\n",
       "    <tr>\n",
       "      <th>2017-08-19</th>\n",
       "      <td>4108.37</td>\n",
       "      <td>4184.69</td>\n",
       "      <td>3850.00</td>\n",
       "      <td>4139.98</td>\n",
       "    </tr>\n",
       "    <tr>\n",
       "      <th>2017-08-18</th>\n",
       "      <td>4285.08</td>\n",
       "      <td>4371.52</td>\n",
       "      <td>3938.77</td>\n",
       "      <td>4108.37</td>\n",
       "    </tr>\n",
       "    <tr>\n",
       "      <th>2017-08-17</th>\n",
       "      <td>4469.93</td>\n",
       "      <td>4485.39</td>\n",
       "      <td>4200.74</td>\n",
       "      <td>4285.08</td>\n",
       "    </tr>\n",
       "  </tbody>\n",
       "</table>\n",
       "</div>"
      ],
      "text/plain": [
       "               open     high      low    close\n",
       "date                                          \n",
       "2017-08-21  4086.29  4119.62  3911.79  4016.00\n",
       "2017-08-20  4139.98  4211.08  4032.62  4086.29\n",
       "2017-08-19  4108.37  4184.69  3850.00  4139.98\n",
       "2017-08-18  4285.08  4371.52  3938.77  4108.37\n",
       "2017-08-17  4469.93  4485.39  4200.74  4285.08"
      ]
     },
     "execution_count": 15,
     "metadata": {},
     "output_type": "execute_result"
    }
   ],
   "source": [
    "df_olhc.tail()"
   ]
  },
  {
   "cell_type": "code",
   "execution_count": 40,
   "metadata": {},
   "outputs": [],
   "source": [
    "qf = cf.QuantFig(\n",
    "    df_olhc.iloc[:50],\n",
    "    title='BTC/USD Exchange Rate',\n",
    "    legend='top',\n",
    "    name='BTC/USD'\n",
    ")"
   ]
  },
  {
   "cell_type": "code",
   "execution_count": 41,
   "metadata": {},
   "outputs": [
    {
     "data": {
      "application/vnd.plotly.v1+json": {
       "config": {
        "linkText": "Export to plot.ly",
        "plotlyServerURL": "https://plot.ly",
        "showLink": false
       },
       "data": [
        {
         "close": [
          35319.06,
          35468.23,
          35891.49,
          36631.27,
          35828.61,
          35994.98,
          36742.22,
          39144.5,
          37371.38,
          34051.24,
          35404.47,
          38150.02,
          40088.22,
          40582.81,
          39432.28,
          36769.36,
          33949.53,
          31988.71,
          33000.05,
          32178.33,
          29331.69,
          28923.63,
          28875.54,
          27385,
          27079.41,
          26281.66,
          26493.39,
          24712.47,
          23729.2,
          23232.76,
          23810.79,
          22719.71,
          23455.52,
          23821.61,
          23107.39,
          22797.16,
          21335.52,
          19426.43,
          19273.14,
          19174.99,
          18808.69,
          18036.53,
          18254.63,
          18541.28,
          18324.11,
          19166.9,
          19359.4,
          19147.66,
          18650.52,
          19421.9
         ],
         "decreasing": {
          "line": {
           "color": "#808080"
          }
         },
         "high": [
          35600,
          36415.31,
          37850,
          37469.83,
          36852.5,
          37950,
          39747.76,
          40100,
          37850,
          36628,
          38264.74,
          41350,
          41380,
          41950,
          40365,
          36939.21,
          34360,
          33600,
          34778.11,
          33300,
          29600,
          29300,
          28996,
          27410,
          27500,
          28422,
          26867.03,
          24789.86,
          23794.43,
          24100,
          23837.1,
          24102.77,
          24295,
          24171.47,
          23285.18,
          23800,
          21560,
          19570,
          19349,
          19411,
          18948.66,
          18292.73,
          18557.32,
          18639.57,
          19294.84,
          19420.91,
          19420,
          19177,
          19527,
          19598
         ],
         "increasing": {
          "line": {
           "color": "#17BECF"
          }
         },
         "low": [
          35304.63,
          33400,
          35844.06,
          34800,
          33850,
          35357.8,
          34408,
          36701.23,
          32380,
          32531,
          30420,
          35111.11,
          38720,
          36500,
          36300,
          33288,
          29900,
          28130,
          31962.99,
          28946.53,
          28624.57,
          27850,
          27320,
          25880,
          26101,
          25700,
          24500,
          23433.6,
          22703.42,
          22600,
          22353.4,
          21815,
          23060,
          22750,
          22350,
          21230,
          19278.6,
          19050,
          19000,
          18711.12,
          18020.7,
          17572.33,
          17911.12,
          17650,
          18200,
          18902.88,
          18857,
          18500,
          18565.31,
          18867.2
         ],
         "name": "BTC/USD",
         "open": [
          35468.23,
          35901.94,
          36622.46,
          35824.99,
          35994.98,
          36737.43,
          39145.21,
          37371.38,
          34049.15,
          35410.37,
          38150.02,
          40088.22,
          40586.96,
          39432.48,
          36769.36,
          33949.53,
          31989.75,
          33000.05,
          32176.45,
          29331.7,
          28923.63,
          28875.55,
          27385,
          27079.42,
          26281.54,
          26493.4,
          24712.47,
          23728.99,
          23232.39,
          23810.79,
          22719.88,
          23455.54,
          23821.6,
          23107.39,
          22797.15,
          21335.52,
          19426.43,
          19273.69,
          19174.99,
          18808.69,
          18036.53,
          18254.81,
          18541.29,
          18324.11,
          19166.9,
          19358.67,
          19147.66,
          18650.51,
          19422.34,
          19204.08
         ],
         "showlegend": true,
         "type": "candlestick",
         "x": [
          "2021-01-21",
          "2021-01-20",
          "2021-01-19",
          "2021-01-18",
          "2021-01-17",
          "2021-01-16",
          "2021-01-15",
          "2021-01-14",
          "2021-01-13",
          "2021-01-12",
          "2021-01-11",
          "2021-01-10",
          "2021-01-09",
          "2021-01-08",
          "2021-01-07",
          "2021-01-06",
          "2021-01-05",
          "2021-01-04",
          "2021-01-03",
          "2021-01-02",
          "2021-01-01",
          "2020-12-31",
          "2020-12-30",
          "2020-12-29",
          "2020-12-28",
          "2020-12-27",
          "2020-12-26",
          "2020-12-25",
          "2020-12-24",
          "2020-12-23",
          "2020-12-22",
          "2020-12-21",
          "2020-12-20",
          "2020-12-19",
          "2020-12-18",
          "2020-12-17",
          "2020-12-16",
          "2020-12-15",
          "2020-12-14",
          "2020-12-13",
          "2020-12-12",
          "2020-12-11",
          "2020-12-10",
          "2020-12-09",
          "2020-12-08",
          "2020-12-07",
          "2020-12-06",
          "2020-12-05",
          "2020-12-04",
          "2020-12-03"
         ],
         "yaxis": "y2"
        }
       ],
       "layout": {
        "legend": {
         "bgcolor": "#F5F6F9",
         "font": {
          "color": "#4D5663"
         },
         "orientation": "h",
         "x": 0.3,
         "y": 0.95,
         "yanchor": "bottom"
        },
        "margin": {
         "b": 30,
         "l": 30,
         "r": 30,
         "t": 30
        },
        "paper_bgcolor": "#F5F6F9",
        "plot_bgcolor": "#F5F6F9",
        "showlegend": true,
        "template": {
         "data": {
          "bar": [
           {
            "error_x": {
             "color": "#2a3f5f"
            },
            "error_y": {
             "color": "#2a3f5f"
            },
            "marker": {
             "line": {
              "color": "#E5ECF6",
              "width": 0.5
             }
            },
            "type": "bar"
           }
          ],
          "barpolar": [
           {
            "marker": {
             "line": {
              "color": "#E5ECF6",
              "width": 0.5
             }
            },
            "type": "barpolar"
           }
          ],
          "carpet": [
           {
            "aaxis": {
             "endlinecolor": "#2a3f5f",
             "gridcolor": "white",
             "linecolor": "white",
             "minorgridcolor": "white",
             "startlinecolor": "#2a3f5f"
            },
            "baxis": {
             "endlinecolor": "#2a3f5f",
             "gridcolor": "white",
             "linecolor": "white",
             "minorgridcolor": "white",
             "startlinecolor": "#2a3f5f"
            },
            "type": "carpet"
           }
          ],
          "choropleth": [
           {
            "colorbar": {
             "outlinewidth": 0,
             "ticks": ""
            },
            "type": "choropleth"
           }
          ],
          "contour": [
           {
            "colorbar": {
             "outlinewidth": 0,
             "ticks": ""
            },
            "colorscale": [
             [
              0,
              "#0d0887"
             ],
             [
              0.1111111111111111,
              "#46039f"
             ],
             [
              0.2222222222222222,
              "#7201a8"
             ],
             [
              0.3333333333333333,
              "#9c179e"
             ],
             [
              0.4444444444444444,
              "#bd3786"
             ],
             [
              0.5555555555555556,
              "#d8576b"
             ],
             [
              0.6666666666666666,
              "#ed7953"
             ],
             [
              0.7777777777777778,
              "#fb9f3a"
             ],
             [
              0.8888888888888888,
              "#fdca26"
             ],
             [
              1,
              "#f0f921"
             ]
            ],
            "type": "contour"
           }
          ],
          "contourcarpet": [
           {
            "colorbar": {
             "outlinewidth": 0,
             "ticks": ""
            },
            "type": "contourcarpet"
           }
          ],
          "heatmap": [
           {
            "colorbar": {
             "outlinewidth": 0,
             "ticks": ""
            },
            "colorscale": [
             [
              0,
              "#0d0887"
             ],
             [
              0.1111111111111111,
              "#46039f"
             ],
             [
              0.2222222222222222,
              "#7201a8"
             ],
             [
              0.3333333333333333,
              "#9c179e"
             ],
             [
              0.4444444444444444,
              "#bd3786"
             ],
             [
              0.5555555555555556,
              "#d8576b"
             ],
             [
              0.6666666666666666,
              "#ed7953"
             ],
             [
              0.7777777777777778,
              "#fb9f3a"
             ],
             [
              0.8888888888888888,
              "#fdca26"
             ],
             [
              1,
              "#f0f921"
             ]
            ],
            "type": "heatmap"
           }
          ],
          "heatmapgl": [
           {
            "colorbar": {
             "outlinewidth": 0,
             "ticks": ""
            },
            "colorscale": [
             [
              0,
              "#0d0887"
             ],
             [
              0.1111111111111111,
              "#46039f"
             ],
             [
              0.2222222222222222,
              "#7201a8"
             ],
             [
              0.3333333333333333,
              "#9c179e"
             ],
             [
              0.4444444444444444,
              "#bd3786"
             ],
             [
              0.5555555555555556,
              "#d8576b"
             ],
             [
              0.6666666666666666,
              "#ed7953"
             ],
             [
              0.7777777777777778,
              "#fb9f3a"
             ],
             [
              0.8888888888888888,
              "#fdca26"
             ],
             [
              1,
              "#f0f921"
             ]
            ],
            "type": "heatmapgl"
           }
          ],
          "histogram": [
           {
            "marker": {
             "colorbar": {
              "outlinewidth": 0,
              "ticks": ""
             }
            },
            "type": "histogram"
           }
          ],
          "histogram2d": [
           {
            "colorbar": {
             "outlinewidth": 0,
             "ticks": ""
            },
            "colorscale": [
             [
              0,
              "#0d0887"
             ],
             [
              0.1111111111111111,
              "#46039f"
             ],
             [
              0.2222222222222222,
              "#7201a8"
             ],
             [
              0.3333333333333333,
              "#9c179e"
             ],
             [
              0.4444444444444444,
              "#bd3786"
             ],
             [
              0.5555555555555556,
              "#d8576b"
             ],
             [
              0.6666666666666666,
              "#ed7953"
             ],
             [
              0.7777777777777778,
              "#fb9f3a"
             ],
             [
              0.8888888888888888,
              "#fdca26"
             ],
             [
              1,
              "#f0f921"
             ]
            ],
            "type": "histogram2d"
           }
          ],
          "histogram2dcontour": [
           {
            "colorbar": {
             "outlinewidth": 0,
             "ticks": ""
            },
            "colorscale": [
             [
              0,
              "#0d0887"
             ],
             [
              0.1111111111111111,
              "#46039f"
             ],
             [
              0.2222222222222222,
              "#7201a8"
             ],
             [
              0.3333333333333333,
              "#9c179e"
             ],
             [
              0.4444444444444444,
              "#bd3786"
             ],
             [
              0.5555555555555556,
              "#d8576b"
             ],
             [
              0.6666666666666666,
              "#ed7953"
             ],
             [
              0.7777777777777778,
              "#fb9f3a"
             ],
             [
              0.8888888888888888,
              "#fdca26"
             ],
             [
              1,
              "#f0f921"
             ]
            ],
            "type": "histogram2dcontour"
           }
          ],
          "mesh3d": [
           {
            "colorbar": {
             "outlinewidth": 0,
             "ticks": ""
            },
            "type": "mesh3d"
           }
          ],
          "parcoords": [
           {
            "line": {
             "colorbar": {
              "outlinewidth": 0,
              "ticks": ""
             }
            },
            "type": "parcoords"
           }
          ],
          "pie": [
           {
            "automargin": true,
            "type": "pie"
           }
          ],
          "scatter": [
           {
            "marker": {
             "colorbar": {
              "outlinewidth": 0,
              "ticks": ""
             }
            },
            "type": "scatter"
           }
          ],
          "scatter3d": [
           {
            "line": {
             "colorbar": {
              "outlinewidth": 0,
              "ticks": ""
             }
            },
            "marker": {
             "colorbar": {
              "outlinewidth": 0,
              "ticks": ""
             }
            },
            "type": "scatter3d"
           }
          ],
          "scattercarpet": [
           {
            "marker": {
             "colorbar": {
              "outlinewidth": 0,
              "ticks": ""
             }
            },
            "type": "scattercarpet"
           }
          ],
          "scattergeo": [
           {
            "marker": {
             "colorbar": {
              "outlinewidth": 0,
              "ticks": ""
             }
            },
            "type": "scattergeo"
           }
          ],
          "scattergl": [
           {
            "marker": {
             "colorbar": {
              "outlinewidth": 0,
              "ticks": ""
             }
            },
            "type": "scattergl"
           }
          ],
          "scattermapbox": [
           {
            "marker": {
             "colorbar": {
              "outlinewidth": 0,
              "ticks": ""
             }
            },
            "type": "scattermapbox"
           }
          ],
          "scatterpolar": [
           {
            "marker": {
             "colorbar": {
              "outlinewidth": 0,
              "ticks": ""
             }
            },
            "type": "scatterpolar"
           }
          ],
          "scatterpolargl": [
           {
            "marker": {
             "colorbar": {
              "outlinewidth": 0,
              "ticks": ""
             }
            },
            "type": "scatterpolargl"
           }
          ],
          "scatterternary": [
           {
            "marker": {
             "colorbar": {
              "outlinewidth": 0,
              "ticks": ""
             }
            },
            "type": "scatterternary"
           }
          ],
          "surface": [
           {
            "colorbar": {
             "outlinewidth": 0,
             "ticks": ""
            },
            "colorscale": [
             [
              0,
              "#0d0887"
             ],
             [
              0.1111111111111111,
              "#46039f"
             ],
             [
              0.2222222222222222,
              "#7201a8"
             ],
             [
              0.3333333333333333,
              "#9c179e"
             ],
             [
              0.4444444444444444,
              "#bd3786"
             ],
             [
              0.5555555555555556,
              "#d8576b"
             ],
             [
              0.6666666666666666,
              "#ed7953"
             ],
             [
              0.7777777777777778,
              "#fb9f3a"
             ],
             [
              0.8888888888888888,
              "#fdca26"
             ],
             [
              1,
              "#f0f921"
             ]
            ],
            "type": "surface"
           }
          ],
          "table": [
           {
            "cells": {
             "fill": {
              "color": "#EBF0F8"
             },
             "line": {
              "color": "white"
             }
            },
            "header": {
             "fill": {
              "color": "#C8D4E3"
             },
             "line": {
              "color": "white"
             }
            },
            "type": "table"
           }
          ]
         },
         "layout": {
          "annotationdefaults": {
           "arrowcolor": "#2a3f5f",
           "arrowhead": 0,
           "arrowwidth": 1
          },
          "autotypenumbers": "strict",
          "coloraxis": {
           "colorbar": {
            "outlinewidth": 0,
            "ticks": ""
           }
          },
          "colorscale": {
           "diverging": [
            [
             0,
             "#8e0152"
            ],
            [
             0.1,
             "#c51b7d"
            ],
            [
             0.2,
             "#de77ae"
            ],
            [
             0.3,
             "#f1b6da"
            ],
            [
             0.4,
             "#fde0ef"
            ],
            [
             0.5,
             "#f7f7f7"
            ],
            [
             0.6,
             "#e6f5d0"
            ],
            [
             0.7,
             "#b8e186"
            ],
            [
             0.8,
             "#7fbc41"
            ],
            [
             0.9,
             "#4d9221"
            ],
            [
             1,
             "#276419"
            ]
           ],
           "sequential": [
            [
             0,
             "#0d0887"
            ],
            [
             0.1111111111111111,
             "#46039f"
            ],
            [
             0.2222222222222222,
             "#7201a8"
            ],
            [
             0.3333333333333333,
             "#9c179e"
            ],
            [
             0.4444444444444444,
             "#bd3786"
            ],
            [
             0.5555555555555556,
             "#d8576b"
            ],
            [
             0.6666666666666666,
             "#ed7953"
            ],
            [
             0.7777777777777778,
             "#fb9f3a"
            ],
            [
             0.8888888888888888,
             "#fdca26"
            ],
            [
             1,
             "#f0f921"
            ]
           ],
           "sequentialminus": [
            [
             0,
             "#0d0887"
            ],
            [
             0.1111111111111111,
             "#46039f"
            ],
            [
             0.2222222222222222,
             "#7201a8"
            ],
            [
             0.3333333333333333,
             "#9c179e"
            ],
            [
             0.4444444444444444,
             "#bd3786"
            ],
            [
             0.5555555555555556,
             "#d8576b"
            ],
            [
             0.6666666666666666,
             "#ed7953"
            ],
            [
             0.7777777777777778,
             "#fb9f3a"
            ],
            [
             0.8888888888888888,
             "#fdca26"
            ],
            [
             1,
             "#f0f921"
            ]
           ]
          },
          "colorway": [
           "#636efa",
           "#EF553B",
           "#00cc96",
           "#ab63fa",
           "#FFA15A",
           "#19d3f3",
           "#FF6692",
           "#B6E880",
           "#FF97FF",
           "#FECB52"
          ],
          "font": {
           "color": "#2a3f5f"
          },
          "geo": {
           "bgcolor": "white",
           "lakecolor": "white",
           "landcolor": "#E5ECF6",
           "showlakes": true,
           "showland": true,
           "subunitcolor": "white"
          },
          "hoverlabel": {
           "align": "left"
          },
          "hovermode": "closest",
          "mapbox": {
           "style": "light"
          },
          "paper_bgcolor": "white",
          "plot_bgcolor": "#E5ECF6",
          "polar": {
           "angularaxis": {
            "gridcolor": "white",
            "linecolor": "white",
            "ticks": ""
           },
           "bgcolor": "#E5ECF6",
           "radialaxis": {
            "gridcolor": "white",
            "linecolor": "white",
            "ticks": ""
           }
          },
          "scene": {
           "xaxis": {
            "backgroundcolor": "#E5ECF6",
            "gridcolor": "white",
            "gridwidth": 2,
            "linecolor": "white",
            "showbackground": true,
            "ticks": "",
            "zerolinecolor": "white"
           },
           "yaxis": {
            "backgroundcolor": "#E5ECF6",
            "gridcolor": "white",
            "gridwidth": 2,
            "linecolor": "white",
            "showbackground": true,
            "ticks": "",
            "zerolinecolor": "white"
           },
           "zaxis": {
            "backgroundcolor": "#E5ECF6",
            "gridcolor": "white",
            "gridwidth": 2,
            "linecolor": "white",
            "showbackground": true,
            "ticks": "",
            "zerolinecolor": "white"
           }
          },
          "shapedefaults": {
           "line": {
            "color": "#2a3f5f"
           }
          },
          "ternary": {
           "aaxis": {
            "gridcolor": "white",
            "linecolor": "white",
            "ticks": ""
           },
           "baxis": {
            "gridcolor": "white",
            "linecolor": "white",
            "ticks": ""
           },
           "bgcolor": "#E5ECF6",
           "caxis": {
            "gridcolor": "white",
            "linecolor": "white",
            "ticks": ""
           }
          },
          "title": {
           "x": 0.05
          },
          "xaxis": {
           "automargin": true,
           "gridcolor": "white",
           "linecolor": "white",
           "ticks": "",
           "title": {
            "standoff": 15
           },
           "zerolinecolor": "white",
           "zerolinewidth": 2
          },
          "yaxis": {
           "automargin": true,
           "gridcolor": "white",
           "linecolor": "white",
           "ticks": "",
           "title": {
            "standoff": 15
           },
           "zerolinecolor": "white",
           "zerolinewidth": 2
          }
         }
        },
        "title": {
         "font": {
          "color": "#4D5663"
         },
         "text": "BTC/USD Exchange Rate"
        },
        "xaxis": {
         "anchor": "y2",
         "gridcolor": "#E1E5ED",
         "rangeselector": {
          "bgcolor": "rgba(150, 200, 250, 1)",
          "buttons": [
           {
            "count": 1,
            "label": "1m",
            "step": "month",
            "stepmode": "backward"
           },
           {
            "count": 1,
            "label": "1y",
            "step": "year",
            "stepmode": "backward"
           }
          ],
          "font": {
           "size": 13
          },
          "visible": false,
          "x": 0,
          "y": 0.9
         },
         "rangeslider": {
          "visible": false
         },
         "showgrid": true,
         "tickfont": {
          "color": "#4D5663"
         },
         "title": {
          "font": {
           "color": "#4D5663"
          },
          "text": ""
         },
         "zerolinecolor": "#E1E5ED"
        },
        "yaxis": {
         "gridcolor": "#E1E5ED",
         "showgrid": true,
         "showticklabels": false,
         "tickfont": {
          "color": "#4D5663"
         },
         "title": {
          "font": {
           "color": "#4D5663"
          },
          "text": ""
         },
         "zerolinecolor": "#E1E5ED"
        },
        "yaxis2": {
         "domain": [
          0,
          0.9
         ],
         "gridcolor": "#E1E5ED",
         "showgrid": true,
         "tickfont": {
          "color": "#4D5663"
         },
         "title": {
          "font": {
           "color": "#4D5663"
          },
          "text": ""
         },
         "zerolinecolor": "#E1E5ED"
        }
       }
      },
      "text/html": [
       "<div>                            <div id=\"047d5a31-4ecd-464b-b9f9-181adcec88bf\" class=\"plotly-graph-div\" style=\"height:525px; width:100%;\"></div>            <script type=\"text/javascript\">                require([\"plotly\"], function(Plotly) {                    window.PLOTLYENV=window.PLOTLYENV || {};                                    if (document.getElementById(\"047d5a31-4ecd-464b-b9f9-181adcec88bf\")) {                    Plotly.newPlot(                        \"047d5a31-4ecd-464b-b9f9-181adcec88bf\",                        [{\"close\": [35319.06, 35468.23, 35891.49, 36631.27, 35828.61, 35994.98, 36742.22, 39144.5, 37371.38, 34051.24, 35404.47, 38150.02, 40088.22, 40582.81, 39432.28, 36769.36, 33949.53, 31988.71, 33000.05, 32178.33, 29331.69, 28923.63, 28875.54, 27385.0, 27079.41, 26281.66, 26493.39, 24712.47, 23729.2, 23232.76, 23810.79, 22719.71, 23455.52, 23821.61, 23107.39, 22797.16, 21335.52, 19426.43, 19273.14, 19174.99, 18808.69, 18036.53, 18254.63, 18541.28, 18324.11, 19166.9, 19359.4, 19147.66, 18650.52, 19421.9], \"decreasing\": {\"line\": {\"color\": \"#808080\"}}, \"high\": [35600.0, 36415.31, 37850.0, 37469.83, 36852.5, 37950.0, 39747.76, 40100.0, 37850.0, 36628.0, 38264.74, 41350.0, 41380.0, 41950.0, 40365.0, 36939.21, 34360.0, 33600.0, 34778.11, 33300.0, 29600.0, 29300.0, 28996.0, 27410.0, 27500.0, 28422.0, 26867.03, 24789.86, 23794.43, 24100.0, 23837.1, 24102.77, 24295.0, 24171.47, 23285.18, 23800.0, 21560.0, 19570.0, 19349.0, 19411.0, 18948.66, 18292.73, 18557.32, 18639.57, 19294.84, 19420.91, 19420.0, 19177.0, 19527.0, 19598.0], \"increasing\": {\"line\": {\"color\": \"#17BECF\"}}, \"low\": [35304.63, 33400.0, 35844.06, 34800.0, 33850.0, 35357.8, 34408.0, 36701.23, 32380.0, 32531.0, 30420.0, 35111.11, 38720.0, 36500.0, 36300.0, 33288.0, 29900.0, 28130.0, 31962.99, 28946.53, 28624.57, 27850.0, 27320.0, 25880.0, 26101.0, 25700.0, 24500.0, 23433.6, 22703.42, 22600.0, 22353.4, 21815.0, 23060.0, 22750.0, 22350.0, 21230.0, 19278.6, 19050.0, 19000.0, 18711.12, 18020.7, 17572.33, 17911.12, 17650.0, 18200.0, 18902.88, 18857.0, 18500.0, 18565.31, 18867.2], \"name\": \"BTC/USD\", \"open\": [35468.23, 35901.94, 36622.46, 35824.99, 35994.98, 36737.43, 39145.21, 37371.38, 34049.15, 35410.37, 38150.02, 40088.22, 40586.96, 39432.48, 36769.36, 33949.53, 31989.75, 33000.05, 32176.45, 29331.7, 28923.63, 28875.55, 27385.0, 27079.42, 26281.54, 26493.4, 24712.47, 23728.99, 23232.39, 23810.79, 22719.88, 23455.54, 23821.6, 23107.39, 22797.15, 21335.52, 19426.43, 19273.69, 19174.99, 18808.69, 18036.53, 18254.81, 18541.29, 18324.11, 19166.9, 19358.67, 19147.66, 18650.51, 19422.34, 19204.08], \"showlegend\": true, \"type\": \"candlestick\", \"x\": [\"2021-01-21\", \"2021-01-20\", \"2021-01-19\", \"2021-01-18\", \"2021-01-17\", \"2021-01-16\", \"2021-01-15\", \"2021-01-14\", \"2021-01-13\", \"2021-01-12\", \"2021-01-11\", \"2021-01-10\", \"2021-01-09\", \"2021-01-08\", \"2021-01-07\", \"2021-01-06\", \"2021-01-05\", \"2021-01-04\", \"2021-01-03\", \"2021-01-02\", \"2021-01-01\", \"2020-12-31\", \"2020-12-30\", \"2020-12-29\", \"2020-12-28\", \"2020-12-27\", \"2020-12-26\", \"2020-12-25\", \"2020-12-24\", \"2020-12-23\", \"2020-12-22\", \"2020-12-21\", \"2020-12-20\", \"2020-12-19\", \"2020-12-18\", \"2020-12-17\", \"2020-12-16\", \"2020-12-15\", \"2020-12-14\", \"2020-12-13\", \"2020-12-12\", \"2020-12-11\", \"2020-12-10\", \"2020-12-09\", \"2020-12-08\", \"2020-12-07\", \"2020-12-06\", \"2020-12-05\", \"2020-12-04\", \"2020-12-03\"], \"yaxis\": \"y2\"}],                        {\"legend\": {\"bgcolor\": \"#F5F6F9\", \"font\": {\"color\": \"#4D5663\"}, \"orientation\": \"h\", \"x\": 0.3, \"y\": 0.95, \"yanchor\": \"bottom\"}, \"margin\": {\"b\": 30, \"l\": 30, \"r\": 30, \"t\": 30}, \"paper_bgcolor\": \"#F5F6F9\", \"plot_bgcolor\": \"#F5F6F9\", \"showlegend\": true, \"template\": {\"data\": {\"bar\": [{\"error_x\": {\"color\": \"#2a3f5f\"}, \"error_y\": {\"color\": \"#2a3f5f\"}, \"marker\": {\"line\": {\"color\": \"#E5ECF6\", \"width\": 0.5}}, \"type\": \"bar\"}], \"barpolar\": [{\"marker\": {\"line\": {\"color\": \"#E5ECF6\", \"width\": 0.5}}, \"type\": \"barpolar\"}], \"carpet\": [{\"aaxis\": {\"endlinecolor\": \"#2a3f5f\", \"gridcolor\": \"white\", \"linecolor\": \"white\", \"minorgridcolor\": \"white\", \"startlinecolor\": \"#2a3f5f\"}, \"baxis\": {\"endlinecolor\": \"#2a3f5f\", \"gridcolor\": \"white\", \"linecolor\": \"white\", \"minorgridcolor\": \"white\", \"startlinecolor\": \"#2a3f5f\"}, \"type\": \"carpet\"}], \"choropleth\": [{\"colorbar\": {\"outlinewidth\": 0, \"ticks\": \"\"}, \"type\": \"choropleth\"}], \"contour\": [{\"colorbar\": {\"outlinewidth\": 0, \"ticks\": \"\"}, \"colorscale\": [[0.0, \"#0d0887\"], [0.1111111111111111, \"#46039f\"], [0.2222222222222222, \"#7201a8\"], [0.3333333333333333, \"#9c179e\"], [0.4444444444444444, \"#bd3786\"], [0.5555555555555556, \"#d8576b\"], [0.6666666666666666, \"#ed7953\"], [0.7777777777777778, \"#fb9f3a\"], [0.8888888888888888, \"#fdca26\"], [1.0, \"#f0f921\"]], \"type\": \"contour\"}], \"contourcarpet\": [{\"colorbar\": {\"outlinewidth\": 0, \"ticks\": \"\"}, \"type\": \"contourcarpet\"}], \"heatmap\": [{\"colorbar\": {\"outlinewidth\": 0, \"ticks\": \"\"}, \"colorscale\": [[0.0, \"#0d0887\"], [0.1111111111111111, \"#46039f\"], [0.2222222222222222, \"#7201a8\"], [0.3333333333333333, \"#9c179e\"], [0.4444444444444444, \"#bd3786\"], [0.5555555555555556, \"#d8576b\"], [0.6666666666666666, \"#ed7953\"], [0.7777777777777778, \"#fb9f3a\"], [0.8888888888888888, \"#fdca26\"], [1.0, \"#f0f921\"]], \"type\": \"heatmap\"}], \"heatmapgl\": [{\"colorbar\": {\"outlinewidth\": 0, \"ticks\": \"\"}, \"colorscale\": [[0.0, \"#0d0887\"], [0.1111111111111111, \"#46039f\"], [0.2222222222222222, \"#7201a8\"], [0.3333333333333333, \"#9c179e\"], [0.4444444444444444, \"#bd3786\"], [0.5555555555555556, \"#d8576b\"], [0.6666666666666666, \"#ed7953\"], [0.7777777777777778, \"#fb9f3a\"], [0.8888888888888888, \"#fdca26\"], [1.0, \"#f0f921\"]], \"type\": \"heatmapgl\"}], \"histogram\": [{\"marker\": {\"colorbar\": {\"outlinewidth\": 0, \"ticks\": \"\"}}, \"type\": \"histogram\"}], \"histogram2d\": [{\"colorbar\": {\"outlinewidth\": 0, \"ticks\": \"\"}, \"colorscale\": [[0.0, \"#0d0887\"], [0.1111111111111111, \"#46039f\"], [0.2222222222222222, \"#7201a8\"], [0.3333333333333333, \"#9c179e\"], [0.4444444444444444, \"#bd3786\"], [0.5555555555555556, \"#d8576b\"], [0.6666666666666666, \"#ed7953\"], [0.7777777777777778, \"#fb9f3a\"], [0.8888888888888888, \"#fdca26\"], [1.0, \"#f0f921\"]], \"type\": \"histogram2d\"}], \"histogram2dcontour\": [{\"colorbar\": {\"outlinewidth\": 0, \"ticks\": \"\"}, \"colorscale\": [[0.0, \"#0d0887\"], [0.1111111111111111, \"#46039f\"], [0.2222222222222222, \"#7201a8\"], [0.3333333333333333, \"#9c179e\"], [0.4444444444444444, \"#bd3786\"], [0.5555555555555556, \"#d8576b\"], [0.6666666666666666, \"#ed7953\"], [0.7777777777777778, \"#fb9f3a\"], [0.8888888888888888, \"#fdca26\"], [1.0, \"#f0f921\"]], \"type\": \"histogram2dcontour\"}], \"mesh3d\": [{\"colorbar\": {\"outlinewidth\": 0, \"ticks\": \"\"}, \"type\": \"mesh3d\"}], \"parcoords\": [{\"line\": {\"colorbar\": {\"outlinewidth\": 0, \"ticks\": \"\"}}, \"type\": \"parcoords\"}], \"pie\": [{\"automargin\": true, \"type\": \"pie\"}], \"scatter\": [{\"marker\": {\"colorbar\": {\"outlinewidth\": 0, \"ticks\": \"\"}}, \"type\": \"scatter\"}], \"scatter3d\": [{\"line\": {\"colorbar\": {\"outlinewidth\": 0, \"ticks\": \"\"}}, \"marker\": {\"colorbar\": {\"outlinewidth\": 0, \"ticks\": \"\"}}, \"type\": \"scatter3d\"}], \"scattercarpet\": [{\"marker\": {\"colorbar\": {\"outlinewidth\": 0, \"ticks\": \"\"}}, \"type\": \"scattercarpet\"}], \"scattergeo\": [{\"marker\": {\"colorbar\": {\"outlinewidth\": 0, \"ticks\": \"\"}}, \"type\": \"scattergeo\"}], \"scattergl\": [{\"marker\": {\"colorbar\": {\"outlinewidth\": 0, \"ticks\": \"\"}}, \"type\": \"scattergl\"}], \"scattermapbox\": [{\"marker\": {\"colorbar\": {\"outlinewidth\": 0, \"ticks\": \"\"}}, \"type\": \"scattermapbox\"}], \"scatterpolar\": [{\"marker\": {\"colorbar\": {\"outlinewidth\": 0, \"ticks\": \"\"}}, \"type\": \"scatterpolar\"}], \"scatterpolargl\": [{\"marker\": {\"colorbar\": {\"outlinewidth\": 0, \"ticks\": \"\"}}, \"type\": \"scatterpolargl\"}], \"scatterternary\": [{\"marker\": {\"colorbar\": {\"outlinewidth\": 0, \"ticks\": \"\"}}, \"type\": \"scatterternary\"}], \"surface\": [{\"colorbar\": {\"outlinewidth\": 0, \"ticks\": \"\"}, \"colorscale\": [[0.0, \"#0d0887\"], [0.1111111111111111, \"#46039f\"], [0.2222222222222222, \"#7201a8\"], [0.3333333333333333, \"#9c179e\"], [0.4444444444444444, \"#bd3786\"], [0.5555555555555556, \"#d8576b\"], [0.6666666666666666, \"#ed7953\"], [0.7777777777777778, \"#fb9f3a\"], [0.8888888888888888, \"#fdca26\"], [1.0, \"#f0f921\"]], \"type\": \"surface\"}], \"table\": [{\"cells\": {\"fill\": {\"color\": \"#EBF0F8\"}, \"line\": {\"color\": \"white\"}}, \"header\": {\"fill\": {\"color\": \"#C8D4E3\"}, \"line\": {\"color\": \"white\"}}, \"type\": \"table\"}]}, \"layout\": {\"annotationdefaults\": {\"arrowcolor\": \"#2a3f5f\", \"arrowhead\": 0, \"arrowwidth\": 1}, \"autotypenumbers\": \"strict\", \"coloraxis\": {\"colorbar\": {\"outlinewidth\": 0, \"ticks\": \"\"}}, \"colorscale\": {\"diverging\": [[0, \"#8e0152\"], [0.1, \"#c51b7d\"], [0.2, \"#de77ae\"], [0.3, \"#f1b6da\"], [0.4, \"#fde0ef\"], [0.5, \"#f7f7f7\"], [0.6, \"#e6f5d0\"], [0.7, \"#b8e186\"], [0.8, \"#7fbc41\"], [0.9, \"#4d9221\"], [1, \"#276419\"]], \"sequential\": [[0.0, \"#0d0887\"], [0.1111111111111111, \"#46039f\"], [0.2222222222222222, \"#7201a8\"], [0.3333333333333333, \"#9c179e\"], [0.4444444444444444, \"#bd3786\"], [0.5555555555555556, \"#d8576b\"], [0.6666666666666666, \"#ed7953\"], [0.7777777777777778, \"#fb9f3a\"], [0.8888888888888888, \"#fdca26\"], [1.0, \"#f0f921\"]], \"sequentialminus\": [[0.0, \"#0d0887\"], [0.1111111111111111, \"#46039f\"], [0.2222222222222222, \"#7201a8\"], [0.3333333333333333, \"#9c179e\"], [0.4444444444444444, \"#bd3786\"], [0.5555555555555556, \"#d8576b\"], [0.6666666666666666, \"#ed7953\"], [0.7777777777777778, \"#fb9f3a\"], [0.8888888888888888, \"#fdca26\"], [1.0, \"#f0f921\"]]}, \"colorway\": [\"#636efa\", \"#EF553B\", \"#00cc96\", \"#ab63fa\", \"#FFA15A\", \"#19d3f3\", \"#FF6692\", \"#B6E880\", \"#FF97FF\", \"#FECB52\"], \"font\": {\"color\": \"#2a3f5f\"}, \"geo\": {\"bgcolor\": \"white\", \"lakecolor\": \"white\", \"landcolor\": \"#E5ECF6\", \"showlakes\": true, \"showland\": true, \"subunitcolor\": \"white\"}, \"hoverlabel\": {\"align\": \"left\"}, \"hovermode\": \"closest\", \"mapbox\": {\"style\": \"light\"}, \"paper_bgcolor\": \"white\", \"plot_bgcolor\": \"#E5ECF6\", \"polar\": {\"angularaxis\": {\"gridcolor\": \"white\", \"linecolor\": \"white\", \"ticks\": \"\"}, \"bgcolor\": \"#E5ECF6\", \"radialaxis\": {\"gridcolor\": \"white\", \"linecolor\": \"white\", \"ticks\": \"\"}}, \"scene\": {\"xaxis\": {\"backgroundcolor\": \"#E5ECF6\", \"gridcolor\": \"white\", \"gridwidth\": 2, \"linecolor\": \"white\", \"showbackground\": true, \"ticks\": \"\", \"zerolinecolor\": \"white\"}, \"yaxis\": {\"backgroundcolor\": \"#E5ECF6\", \"gridcolor\": \"white\", \"gridwidth\": 2, \"linecolor\": \"white\", \"showbackground\": true, \"ticks\": \"\", \"zerolinecolor\": \"white\"}, \"zaxis\": {\"backgroundcolor\": \"#E5ECF6\", \"gridcolor\": \"white\", \"gridwidth\": 2, \"linecolor\": \"white\", \"showbackground\": true, \"ticks\": \"\", \"zerolinecolor\": \"white\"}}, \"shapedefaults\": {\"line\": {\"color\": \"#2a3f5f\"}}, \"ternary\": {\"aaxis\": {\"gridcolor\": \"white\", \"linecolor\": \"white\", \"ticks\": \"\"}, \"baxis\": {\"gridcolor\": \"white\", \"linecolor\": \"white\", \"ticks\": \"\"}, \"bgcolor\": \"#E5ECF6\", \"caxis\": {\"gridcolor\": \"white\", \"linecolor\": \"white\", \"ticks\": \"\"}}, \"title\": {\"x\": 0.05}, \"xaxis\": {\"automargin\": true, \"gridcolor\": \"white\", \"linecolor\": \"white\", \"ticks\": \"\", \"title\": {\"standoff\": 15}, \"zerolinecolor\": \"white\", \"zerolinewidth\": 2}, \"yaxis\": {\"automargin\": true, \"gridcolor\": \"white\", \"linecolor\": \"white\", \"ticks\": \"\", \"title\": {\"standoff\": 15}, \"zerolinecolor\": \"white\", \"zerolinewidth\": 2}}}, \"title\": {\"font\": {\"color\": \"#4D5663\"}, \"text\": \"BTC/USD Exchange Rate\"}, \"xaxis\": {\"anchor\": \"y2\", \"gridcolor\": \"#E1E5ED\", \"rangeselector\": {\"bgcolor\": \"rgba(150, 200, 250, 1)\", \"buttons\": [{\"count\": 1, \"label\": \"1m\", \"step\": \"month\", \"stepmode\": \"backward\"}, {\"count\": 1, \"label\": \"1y\", \"step\": \"year\", \"stepmode\": \"backward\"}], \"font\": {\"size\": 13}, \"visible\": false, \"x\": 0, \"y\": 0.9}, \"rangeslider\": {\"visible\": false}, \"showgrid\": true, \"tickfont\": {\"color\": \"#4D5663\"}, \"title\": {\"font\": {\"color\": \"#4D5663\"}, \"text\": \"\"}, \"zerolinecolor\": \"#E1E5ED\"}, \"yaxis\": {\"gridcolor\": \"#E1E5ED\", \"showgrid\": true, \"showticklabels\": false, \"tickfont\": {\"color\": \"#4D5663\"}, \"title\": {\"font\": {\"color\": \"#4D5663\"}, \"text\": \"\"}, \"zerolinecolor\": \"#E1E5ED\"}, \"yaxis2\": {\"domain\": [0.0, 0.9], \"gridcolor\": \"#E1E5ED\", \"showgrid\": true, \"tickfont\": {\"color\": \"#4D5663\"}, \"title\": {\"font\": {\"color\": \"#4D5663\"}, \"text\": \"\"}, \"zerolinecolor\": \"#E1E5ED\"}},                        {\"responsive\": true}                    ).then(function(){\n",
       "                            \n",
       "var gd = document.getElementById('047d5a31-4ecd-464b-b9f9-181adcec88bf');\n",
       "var x = new MutationObserver(function (mutations, observer) {{\n",
       "        var display = window.getComputedStyle(gd).display;\n",
       "        if (!display || display === 'none') {{\n",
       "            console.log([gd, 'removed!']);\n",
       "            Plotly.purge(gd);\n",
       "            observer.disconnect();\n",
       "        }}\n",
       "}});\n",
       "\n",
       "// Listen for the removal of the full notebook cells\n",
       "var notebookContainer = gd.closest('#notebook-container');\n",
       "if (notebookContainer) {{\n",
       "    x.observe(notebookContainer, {childList: true});\n",
       "}}\n",
       "\n",
       "// Listen for the clearing of the current output cell\n",
       "var outputEl = gd.closest('.output');\n",
       "if (outputEl) {{\n",
       "    x.observe(outputEl, {childList: true});\n",
       "}}\n",
       "\n",
       "                        })                };                });            </script>        </div>"
      ]
     },
     "metadata": {},
     "output_type": "display_data"
    }
   ],
   "source": [
    "plyo.iplot(\n",
    "    qf.iplot(asFigure=True),\n",
    "    #image='png',\n",
    "    #filename='btc_01'\n",
    ")"
   ]
  },
  {
   "cell_type": "code",
   "execution_count": 44,
   "metadata": {},
   "outputs": [],
   "source": [
    "df_BTC_USD_hourly = pd.read_csv('crypto_data/Binance_BTCUSDT_1h.csv', skiprows=0)"
   ]
  },
  {
   "cell_type": "code",
   "execution_count": 45,
   "metadata": {},
   "outputs": [
    {
     "data": {
      "text/plain": [
       "unix               0\n",
       "date               0\n",
       "symbol             0\n",
       "open               0\n",
       "high               0\n",
       "low                0\n",
       "close              0\n",
       "Volume BTC         0\n",
       "Volume USDT        0\n",
       "tradecount     28584\n",
       "dtype: int64"
      ]
     },
     "execution_count": 45,
     "metadata": {},
     "output_type": "execute_result"
    }
   ],
   "source": [
    "df_BTC_USD_hourly.isna().sum() # TODO: why are there lots of tradecounts missing"
   ]
  },
  {
   "cell_type": "code",
   "execution_count": 46,
   "metadata": {},
   "outputs": [
    {
     "data": {
      "text/html": [
       "<div>\n",
       "<style scoped>\n",
       "    .dataframe tbody tr th:only-of-type {\n",
       "        vertical-align: middle;\n",
       "    }\n",
       "\n",
       "    .dataframe tbody tr th {\n",
       "        vertical-align: top;\n",
       "    }\n",
       "\n",
       "    .dataframe thead th {\n",
       "        text-align: right;\n",
       "    }\n",
       "</style>\n",
       "<table border=\"1\" class=\"dataframe\">\n",
       "  <thead>\n",
       "    <tr style=\"text-align: right;\">\n",
       "      <th></th>\n",
       "      <th>unix</th>\n",
       "      <th>open</th>\n",
       "      <th>high</th>\n",
       "      <th>low</th>\n",
       "      <th>close</th>\n",
       "      <th>Volume BTC</th>\n",
       "      <th>Volume USDT</th>\n",
       "      <th>tradecount</th>\n",
       "    </tr>\n",
       "  </thead>\n",
       "  <tbody>\n",
       "    <tr>\n",
       "      <th>count</th>\n",
       "      <td>3.270900e+04</td>\n",
       "      <td>32709.00000</td>\n",
       "      <td>32709.000000</td>\n",
       "      <td>32709.000000</td>\n",
       "      <td>32709.000000</td>\n",
       "      <td>32709.000000</td>\n",
       "      <td>3.270900e+04</td>\n",
       "      <td>4125.000000</td>\n",
       "    </tr>\n",
       "    <tr>\n",
       "      <th>mean</th>\n",
       "      <td>2.036106e+11</td>\n",
       "      <td>9220.73298</td>\n",
       "      <td>9275.087849</td>\n",
       "      <td>9161.049287</td>\n",
       "      <td>9221.619803</td>\n",
       "      <td>1870.924915</td>\n",
       "      <td>2.000140e+07</td>\n",
       "      <td>51975.029333</td>\n",
       "    </tr>\n",
       "    <tr>\n",
       "      <th>std</th>\n",
       "      <td>5.319001e+11</td>\n",
       "      <td>4915.65155</td>\n",
       "      <td>4962.209419</td>\n",
       "      <td>4862.305737</td>\n",
       "      <td>4917.979817</td>\n",
       "      <td>1999.984415</td>\n",
       "      <td>3.207474e+07</td>\n",
       "      <td>35459.751999</td>\n",
       "    </tr>\n",
       "    <tr>\n",
       "      <th>min</th>\n",
       "      <td>1.502942e+09</td>\n",
       "      <td>2919.00000</td>\n",
       "      <td>2950.000000</td>\n",
       "      <td>2817.000000</td>\n",
       "      <td>2919.000000</td>\n",
       "      <td>0.000000</td>\n",
       "      <td>0.000000e+00</td>\n",
       "      <td>0.000000</td>\n",
       "    </tr>\n",
       "    <tr>\n",
       "      <th>25%</th>\n",
       "      <td>1.532394e+09</td>\n",
       "      <td>6494.99000</td>\n",
       "      <td>6519.000000</td>\n",
       "      <td>6471.120000</td>\n",
       "      <td>6494.990000</td>\n",
       "      <td>805.420000</td>\n",
       "      <td>5.746229e+06</td>\n",
       "      <td>28403.000000</td>\n",
       "    </tr>\n",
       "    <tr>\n",
       "      <th>50%</th>\n",
       "      <td>1.561831e+09</td>\n",
       "      <td>8570.88000</td>\n",
       "      <td>8629.310000</td>\n",
       "      <td>8520.580000</td>\n",
       "      <td>8570.880000</td>\n",
       "      <td>1365.510000</td>\n",
       "      <td>1.128950e+07</td>\n",
       "      <td>41876.000000</td>\n",
       "    </tr>\n",
       "    <tr>\n",
       "      <th>75%</th>\n",
       "      <td>1.591268e+09</td>\n",
       "      <td>10715.91000</td>\n",
       "      <td>10757.930000</td>\n",
       "      <td>10664.630000</td>\n",
       "      <td>10715.910000</td>\n",
       "      <td>2267.190000</td>\n",
       "      <td>2.163189e+07</td>\n",
       "      <td>64950.000000</td>\n",
       "    </tr>\n",
       "    <tr>\n",
       "      <th>max</th>\n",
       "      <td>1.611187e+12</td>\n",
       "      <td>41454.13000</td>\n",
       "      <td>41950.000000</td>\n",
       "      <td>40970.220000</td>\n",
       "      <td>41454.130000</td>\n",
       "      <td>47255.760000</td>\n",
       "      <td>7.548817e+08</td>\n",
       "      <td>352801.000000</td>\n",
       "    </tr>\n",
       "  </tbody>\n",
       "</table>\n",
       "</div>"
      ],
      "text/plain": [
       "               unix         open          high           low         close  \\\n",
       "count  3.270900e+04  32709.00000  32709.000000  32709.000000  32709.000000   \n",
       "mean   2.036106e+11   9220.73298   9275.087849   9161.049287   9221.619803   \n",
       "std    5.319001e+11   4915.65155   4962.209419   4862.305737   4917.979817   \n",
       "min    1.502942e+09   2919.00000   2950.000000   2817.000000   2919.000000   \n",
       "25%    1.532394e+09   6494.99000   6519.000000   6471.120000   6494.990000   \n",
       "50%    1.561831e+09   8570.88000   8629.310000   8520.580000   8570.880000   \n",
       "75%    1.591268e+09  10715.91000  10757.930000  10664.630000  10715.910000   \n",
       "max    1.611187e+12  41454.13000  41950.000000  40970.220000  41454.130000   \n",
       "\n",
       "         Volume BTC   Volume USDT     tradecount  \n",
       "count  32709.000000  3.270900e+04    4125.000000  \n",
       "mean    1870.924915  2.000140e+07   51975.029333  \n",
       "std     1999.984415  3.207474e+07   35459.751999  \n",
       "min        0.000000  0.000000e+00       0.000000  \n",
       "25%      805.420000  5.746229e+06   28403.000000  \n",
       "50%     1365.510000  1.128950e+07   41876.000000  \n",
       "75%     2267.190000  2.163189e+07   64950.000000  \n",
       "max    47255.760000  7.548817e+08  352801.000000  "
      ]
     },
     "execution_count": 46,
     "metadata": {},
     "output_type": "execute_result"
    }
   ],
   "source": [
    "df_BTC_USD_hourly.describe()"
   ]
  },
  {
   "cell_type": "code",
   "execution_count": null,
   "metadata": {},
   "outputs": [],
   "source": []
  }
 ],
 "metadata": {
  "kernelspec": {
   "display_name": "Python 3",
   "language": "python",
   "name": "python3"
  },
  "language_info": {
   "codemirror_mode": {
    "name": "ipython",
    "version": 3
   },
   "file_extension": ".py",
   "mimetype": "text/x-python",
   "name": "python",
   "nbconvert_exporter": "python",
   "pygments_lexer": "ipython3",
   "version": "3.8.5"
  }
 },
 "nbformat": 4,
 "nbformat_minor": 4
}
